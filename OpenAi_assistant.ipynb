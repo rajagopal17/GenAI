{
  "nbformat": 4,
  "nbformat_minor": 0,
  "metadata": {
    "colab": {
      "provenance": [],
      "mount_file_id": "1KsGZVLSYckxk1HbkCcdCu4_lXqUDJZLH",
      "authorship_tag": "ABX9TyNB3xHua6QCM1oulOpQi2X6",
      "include_colab_link": true
    },
    "kernelspec": {
      "name": "python3",
      "display_name": "Python 3"
    },
    "language_info": {
      "name": "python"
    }
  },
  "cells": [
    {
      "cell_type": "markdown",
      "metadata": {
        "id": "view-in-github",
        "colab_type": "text"
      },
      "source": [
        "<a href=\"https://colab.research.google.com/github/rajagopal17/GenAI/blob/main/OpenAi_assistant.ipynb\" target=\"_parent\"><img src=\"https://colab.research.google.com/assets/colab-badge.svg\" alt=\"Open In Colab\"/></a>"
      ]
    },
    {
      "cell_type": "markdown",
      "source": [
        "#In this demo, the usage of OpenAI assistants functionality is provided.\n",
        "\n",
        "\n",
        "*   data is stored in openai's vector database and queried from it (similiar to llamaindex)\n",
        "*   we can create required number of assitants based on the required topic (each assistant queries its own vectorstore)\n",
        "\n",
        "\n",
        "*   each assistant need to be created as a function with detailed function name using gpt-3.5/ gpt-4o\n",
        "*   then create a tool list with  the assistants (function names)\n",
        "\n",
        "\n",
        "*   using anthropic tool calling, required functions can be executed automatically\n",
        "*   this is similiar to function calling discussed in another notebook, the only difference being, functions are created using openai assistants\n",
        "\n",
        "#Points to check:\n",
        "\n",
        "\n",
        "*   need to check how the token usage for retrieving data using gpt-3.5-turbo model from the vectorstore (cannot retrieve data using non-openai model)\n",
        "*   also not sure where the vectorstore is stored in openai and will there be any privacy concerns\n",
        "\n",
        "\n",
        "*   also we do not have any control on the vectorstore\n",
        "*   if this is not cost effective we can use llamaindex with latest embeddings from openai/cohere/voyager/Ragatouille, create our own vectorstore and retrieve it using openai/claude models by creating a function wrapper on the retriever\n",
        "\n",
        "\n",
        "\n",
        "\n",
        "\n",
        "\n",
        "\n",
        "\n",
        "\n"
      ],
      "metadata": {
        "id": "CORYx2eYEIE2"
      }
    },
    {
      "cell_type": "code",
      "execution_count": null,
      "metadata": {
        "collapsed": true,
        "id": "o5o6KO5nHhA1"
      },
      "outputs": [],
      "source": [
        "!pip install openai\n",
        "import openai\n",
        "import os\n",
        "from openai import OpenAI as Client\n",
        "from google.colab import userdata\n",
        "os.environ[\"OPEN_API_KEY\"] = userdata.get('OPEN_API_KEY')\n",
        "openai.api_key = os.environ[\"OPEN_API_KEY\"]\n",
        "client     = Client(api_key= userdata.get('OPEN_API_KEY'))\n"
      ]
    },
    {
      "cell_type": "markdown",
      "source": [
        "\n",
        "\n",
        "---\n",
        "\n",
        "\n",
        "#End-to-end process:\n",
        "\n",
        "---\n",
        "\n",
        "\n",
        "\n",
        "\n",
        "1.   Create a vector store and get the vector_store_id\n",
        "2.   Create a assistant with vector_store.id, model and get assistant.id\n",
        "3.   Create a function with three parameters\n",
        "\n",
        "\n",
        "     *   thread\n",
        "     *   message -> thread.id\n",
        "     *   run -> assistant.id (assistant.id is linked to vector_stores.id)\n",
        "\n",
        "First GB is free and beyond that, usage is billed at $0.10/GB/day of vector storage\n",
        "\n",
        "\n",
        "---\n",
        "\n",
        "\n",
        "\n",
        "\n",
        "\n",
        "\n",
        "\n"
      ],
      "metadata": {
        "id": "27cKqCyBArJg"
      }
    },
    {
      "cell_type": "markdown",
      "source": [
        "#Create a vectore_store and save the vector_store.id\n",
        "    -this is required to add in assistant creation"
      ],
      "metadata": {
        "id": "-6DL4_WtoWQm"
      }
    },
    {
      "cell_type": "code",
      "source": [
        "sap_fixed_assets = client.beta.vector_stores.create(name=\"sap_fixed_assets\")\n",
        "file_path           = '/content/drive/MyDrive/Python/SAPDOCS/Copy of FixedAssets.pdf'\n",
        "client.beta.vector_stores.files.upload(vector_store_id=sap_fixed_assets.id, file=open(file_path,'rb'))\n",
        "sap_fixed_assets.id"
      ],
      "metadata": {
        "colab": {
          "base_uri": "https://localhost:8080/",
          "height": 35
        },
        "id": "pdm_W3QYAubK",
        "outputId": "6099a723-5053-44e4-b731-6236076554ab"
      },
      "execution_count": null,
      "outputs": [
        {
          "output_type": "execute_result",
          "data": {
            "text/plain": [
              "'vs_BF5qMDKb6id1GJfaWUPO2LVD'"
            ],
            "application/vnd.google.colaboratory.intrinsic+json": {
              "type": "string"
            }
          },
          "metadata": {},
          "execution_count": 5
        }
      ]
    },
    {
      "cell_type": "markdown",
      "source": [
        "#Create assistant:\n",
        "\n",
        "\n",
        "1.   Below two assistants are created with vectore_store.id\n",
        "2.   print the assistant.id and add save it for later use\n",
        "\n"
      ],
      "metadata": {
        "id": "4prCybpNGwem"
      }
    },
    {
      "cell_type": "code",
      "source": [
        "#assistant-1\n",
        "fixed_assets_assistant = client.beta.assistants.create(\n",
        "                                          name          = \"fixed_assets_accountant\",\n",
        "                                          description   = '''\n",
        "                                                          you are a SAP consultant with expertize in configuration of fixed assets\n",
        "                                                          and financial accounting process. Analyze the user query and provide\n",
        "                                                          the required details from the knowledge base ''' ,\n",
        "                                          model         = \"gpt-3.5-turbo-0125\",\n",
        "                                          tools         = [{\"type\": \"file_search\"}],\n",
        "                                          tool_resources= {\"file_search\": {\"vector_store_ids\":['vs_BF5qMDKb6id1GJfaWUPO2LVD']}}\n",
        "                                                            )\n",
        "\n",
        "\n",
        "\n",
        "#assistant-2\n",
        "depreciation_assistant = client.beta.assistants.create(\n",
        "                                          name          = \"depreciation_accountant\",\n",
        "                                          description   = '''\n",
        "                                                          you are a SAP consultant with expertize in configuration of fixed assets\n",
        "                                                          and depreciation process. Analyze the user query and provide\n",
        "                                                          the required details from the knowledge base ''' ,\n",
        "                                          model         = \"gpt-3.5-turbo-0125\",\n",
        "                                          tools         = [{\"type\": \"file_search\"}],\n",
        "                                          tool_resources= {\"file_search\": {\"vector_store_ids\":['vs_BF5qMDKb6id1GJfaWUPO2LVD']}}\n",
        "                                                            )\n",
        "\n",
        "\n"
      ],
      "metadata": {
        "id": "dZnhUVWBGvud"
      },
      "execution_count": null,
      "outputs": []
    },
    {
      "cell_type": "markdown",
      "source": [
        "#Run assistants by adding respective assistant.id"
      ],
      "metadata": {
        "id": "_QjEzEBzG1N0"
      }
    },
    {
      "cell_type": "code",
      "source": [
        "import textwrap\n",
        "\n",
        "def get_fixed_asset_details(user_query):\n",
        "        thread   = client.beta.threads.create()\n",
        "        message  = client.beta.threads.messages.create(\n",
        "                          thread_id    = thread.id,\n",
        "                          role         = \"user\",\n",
        "                          content      = user_query)\n",
        "        run      = client.beta.threads.runs.create_and_poll(\n",
        "                          thread_id    =thread.id,\n",
        "                          assistant_id = 'asst_galXOLYJ1L3Fx2BM3SH6fW5y',\n",
        "                          instructions ='''Please address the user as Sirji. Provide output in a reader friendly format''' )\n",
        "\n",
        "\n",
        "        messages = client.beta.threads.messages.list(thread_id=thread.id)\n",
        "        if run.status == 'completed':\n",
        "            messages   = client.beta.threads.messages.list(thread_id=thread.id)\n",
        "            return (messages.data[0].content[0].text.value)\n",
        "        else:\n",
        "            return (run.status)\n",
        "\n"
      ],
      "metadata": {
        "id": "nlwFau1jHpvB"
      },
      "execution_count": null,
      "outputs": []
    },
    {
      "cell_type": "code",
      "source": [
        "print(get_fixed_asset_details('can you explain in detail what is use of plant field in asset master'))"
      ],
      "metadata": {
        "colab": {
          "base_uri": "https://localhost:8080/"
        },
        "id": "0wqNjxrdnAiy",
        "outputId": "394f7b5f-0f22-42dc-8853-976e07ce00d6"
      },
      "execution_count": null,
      "outputs": [
        {
          "output_type": "stream",
          "name": "stdout",
          "text": [
            "In the asset master record, the \"plant\" field serves as an organizational unit primarily defined in SAP R/3 logistics components. Here is the detailed information regarding the use of the plant field in the asset master:\n",
            "\n",
            "- **Use**:\n",
            "  - The plant field has no direct asset accounting relevance but can be utilized as a sorting and selection criterion for reports.\n",
            "  - It allows the assignment of a fixed asset to a specific plant for a defined period within its asset master record.\n",
            "  - Changes in the assignment to a different plant can be made by modifying the asset master record.\n",
            "\n",
            "- **Prerequisites**:\n",
            "  - It is necessary to maintain plants and locations in Customizing by selecting Enterprise Structure.\n",
            "\n",
            "- **Features**:\n",
            "  - **Plant**:\n",
            "    - Typically represents a plant location or branch.\n",
            "    - Although not directly impacting asset accounting, it can be used for sorting and selecting reports.\n",
            "  - **Location**:\n",
            "    - Handled similarly to the plant, allowing for time-dependent assignment of assets to locations.\n",
            "  - **Address**:\n",
            "    - Address information can be indirectly assigned to an asset by specifying it in the Customizing definition of the location. This address data typically includes street address, PO box, and communication information like telephone number.\n",
            "\n",
            "The plant field in the asset master record can aid in sorting assets and selecting them for reporting purposes, adding an additional organizational dimension to the asset management process【4:0†source】.\n"
          ]
        }
      ]
    },
    {
      "cell_type": "code",
      "source": [
        "print(get_fixed_asset_details('can you explain what is use of account determination field in asset master')) #gpt-4o"
      ],
      "metadata": {
        "colab": {
          "base_uri": "https://localhost:8080/"
        },
        "id": "4cUIC9KYIN7c",
        "outputId": "643b60be-6cf6-4f62-9dca-068001e10ad7"
      },
      "execution_count": null,
      "outputs": [
        {
          "output_type": "stream",
          "name": "stdout",
          "text": [
            "The account determination field in the asset master is used to define the reconciliation accounts in Financial Accounting that should be posted during asset transactions. This field is entered in the general master data for the asset class and ensures consistent account assignment for all assets within the given asset class. The account determination key is effective for each chart of accounts and for each depreciation area defined as an automatic posting area in the respective chart of depreciation【4:0†source】.\n"
          ]
        }
      ]
    },
    {
      "cell_type": "code",
      "source": [
        "#Required_parameters are : depreciation_assistant.id =asst_eahH1Kow1azpKVZ91VTCjeO9\n",
        "\n",
        "\n",
        "def get_depreciation_details(user_query):\n",
        "\n",
        "      thread   = client.beta.threads.create()\n",
        "      message  = client.beta.threads.messages.create(\n",
        "                          thread_id    = thread.id,\n",
        "                          role         = \"user\",\n",
        "                          content      = user_query)\n",
        "      run      = client.beta.threads.runs.create_and_poll(\n",
        "                          thread_id    =thread.id,\n",
        "                          assistant_id = 'asst_eahH1Kow1azpKVZ91VTCjeO9',\n",
        "                          instructions ='''Please address the user as Sirji. Provide output in a reader friendly format''' )\n",
        "\n",
        "\n",
        "      messages = client.beta.threads.messages.list(thread_id=thread.id)\n",
        "      if  run.status == 'completed':\n",
        "          messages   = client.beta.threads.messages.list(thread_id=thread.id)\n",
        "          return (messages.data[0].content[0].text.value)\n",
        "      else:\n",
        "          return (run.status)\n",
        "\n",
        "#print(get_depreciation_details('can you explain the different methods of depreciation used in SAP'))"
      ],
      "metadata": {
        "id": "EVW6ZMpDerbX"
      },
      "execution_count": null,
      "outputs": []
    },
    {
      "cell_type": "code",
      "source": [
        "user_query =\"what is the purpose of time dependent field in asset master\"\n",
        "print(textwrap.fill(get_depreciation_details(user_query),width=150,break_long_words=False,replace_whitespace=False))"
      ],
      "metadata": {
        "colab": {
          "base_uri": "https://localhost:8080/"
        },
        "id": "Mj49hxh9gZ-C",
        "outputId": "6cca7b7e-93a7-4408-dadf-a2eef570da68"
      },
      "execution_count": null,
      "outputs": [
        {
          "output_type": "stream",
          "name": "stdout",
          "text": [
            "Sirji, the purpose of the time-dependent field in asset master is to track changes in certain assignments during the life cycle of an asset that\n",
            "change frequently. This field allows for the recording of changes for reporting and valuation needs, such as changes in assignments like cost center,\n",
            "plant, activity type, and more with different time intervals within the asset master record. Data is stored in a sequence with valid from and valid to\n",
            "dates, showing the exact day of the change, and allowing the system to display the time-dependent data valid for the date of the request【4:0†source】.\n"
          ]
        }
      ]
    }
  ]
}
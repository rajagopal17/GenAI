{
  "cells": [
    {
      "cell_type": "markdown",
      "metadata": {
        "id": "view-in-github",
        "colab_type": "text"
      },
      "source": [
        "<a href=\"https://colab.research.google.com/github/rajagopal17/GenAI/blob/main/llama_index_advanced_retrievers.ipynb\" target=\"_parent\"><img src=\"https://colab.research.google.com/assets/colab-badge.svg\" alt=\"Open In Colab\"/></a>"
      ]
    },
    {
      "cell_type": "markdown",
      "metadata": {
        "id": "Qcyfh96-uY0R"
      },
      "source": [
        "#Load the required libraries"
      ]
    },
    {
      "cell_type": "code",
      "execution_count": null,
      "metadata": {
        "id": "23E1McdLD5H3"
      },
      "outputs": [],
      "source": [
        "!pip install llama_index\n",
        "!pip install llama-index-embeddings-huggingface\n",
        "!pip install llama-index-llms-huggingface\n",
        "!pip install --upgrade together\n",
        "!pip install llama-index-llms-together\n",
        "!pip install llama-index-embeddings-together\n",
        "\n",
        "####################################\n",
        "import textwrap\n",
        "import llama_index\n",
        "from llama_index.core import VectorStoreIndex, SimpleDirectoryReader,SimpleKeywordTableIndex\n",
        "from llama_index.core import ServiceContext, StorageContext,load_index_from_storage\n",
        "from llama_index.core.node_parser import SimpleNodeParser\n",
        "from llama_index.core import download_loader\n",
        "from llama_index.core.response.notebook_utils import display_response\n",
        "######################################\n",
        "#import llama retrievers\n",
        "from llama_index.core.retrievers import RecursiveRetriever\n",
        "from llama_index.core.retrievers import VectorIndexRetriever\n",
        "from llama_index.core.query_engine import RetrieverQueryEngine\n",
        "from llama_index.core.postprocessor import SimilarityPostprocessor\n",
        "from llama_index.core import get_response_synthesizer\n",
        "######################################\n",
        "import os\n",
        "from llama_index.core import Settings\n",
        "from llama_index.core import Document\n",
        "from llama_index.core.node_parser import SentenceSplitter\n",
        "\n",
        "######################################\n",
        "#Provide APIs\n",
        "import os\n",
        "from llama_index.core import Settings\n",
        "from google.colab import userdata\n",
        "userdata.get('HF_API_TOKEN')\n",
        "userdata.get('LM_API_KEY')\n",
        "userdata.get('TG_API_KEY')\n",
        "\n",
        "HUGGINGFACEHUB_API_TOKEN = \"HF_API_TOKEN\"\n",
        "os.environ[\"HUGGINGFACEHUB_API_TOKEN\"] = HUGGINGFACEHUB_API_TOKEN\n",
        "\n",
        "from llama_index.embeddings.huggingface import HuggingFaceEmbedding\n",
        "from llama_index.core import Settings\n",
        "\n",
        "\n",
        "Settings.embed_model = HuggingFaceEmbedding(model_name=\"BAAI/bge-small-en-v1.5\")\n",
        "\n",
        "import together\n",
        "together.api_key = userdata.get('TG_API_KEY')\n",
        "\n",
        "\n",
        "from llama_index.llms.together import TogetherLLM\n",
        "Settings.llm = TogetherLLM(model=\"mistralai/Mixtral-8x7B-Instruct-v0.1\", api_key=together.api_key)\n",
        "llm          = Settings.llm\n",
        "\n",
        "\n",
        "\n"
      ]
    },
    {
      "cell_type": "code",
      "execution_count": 2,
      "metadata": {
        "id": "QPKId-IGCkdg"
      },
      "outputs": [],
      "source": [
        "#Load the data and create vector store index and Summary Index\n",
        "\n",
        "from llama_index.core import SummaryIndex\n",
        "from llama_index.core import VectorStoreIndex\n",
        "from llama_index.core.indices import SummaryIndex\n",
        "\n",
        "#load documents\n",
        "documents = SimpleDirectoryReader(\"/content/drive/MyDrive/Assignment9\").load_data()\n",
        "\n",
        "\n",
        "# Create a  vector store index.  VectorStoreIndex only needs an embed model\n",
        "#index = VectorStoreIndex.from_documents(documents, embed_model=Settings.embed_model)\n",
        "\n",
        "#Store vectorindex\n",
        "from llama_index.core.storage.storage_context import StorageContext\n",
        "\n",
        "#Store VectorStoreIndex to local disk for later use\n",
        "PERSIST_DIR     = \"/content/drive/MyDrive/llama_storage/sapllama2\"\n",
        "#index.storage_context.persist(persist_dir=PERSIST_DIR)\n",
        "storage_context = StorageContext.from_defaults(persist_dir=PERSIST_DIR)\n",
        "\n",
        "#reload index from storage\n",
        "sap_index       = load_index_from_storage(storage_context=storage_context)\n",
        "\n",
        "\n",
        "#Create a summary index from the same set of documents loaded\n",
        "summary_index = SummaryIndex.from_documents(documents)\n"
      ]
    },
    {
      "cell_type": "markdown",
      "metadata": {
        "id": "h9AvnunPF-kC"
      },
      "source": [
        "# Summary of llama-index modules\n",
        "### Vector tool is used in many modules as below:\n",
        "\n",
        "1. QueryEngineTool - uses (VectorTool and SummaryTool) with single and multiple\n",
        "2. RouterQuery Engine - uses (VectorTool and SummaryTool)\n",
        "3. React Agent - uses (vectorTool and SummaryTool)\n",
        "\n",
        "### Other modules\n",
        "1. Recursive Retriever with response_mode=\"tree_summarize\"\n",
        "2. MultistepQuery Engine\n",
        "3. Hyde Transform Query with prompt template - uses langchain and not discussed here\n",
        "4. Response Schemas - not discussed here\n",
        "\n",
        "\n",
        "In the below notebook few of the above modules were discussed with working examples"
      ]
    },
    {
      "cell_type": "markdown",
      "metadata": {
        "id": "Xcna2V29psTt"
      },
      "source": [
        "#Create vector_tool, summary_tool and list_tool. They can be used in different vector based modules"
      ]
    },
    {
      "cell_type": "code",
      "execution_count": 3,
      "metadata": {
        "id": "gvkNBe2npEz6"
      },
      "outputs": [],
      "source": [
        "from llama_index.core.tools import QueryEngineTool, ToolMetadata\n",
        "\n",
        "\n",
        "vector_tool = QueryEngineTool(\n",
        "    sap_index.as_query_engine(),\n",
        "    metadata=ToolMetadata(\n",
        "        name=\"vector_search\",\n",
        "        description=\"Useful for searching for specific details and facts.\"\n",
        "    )\n",
        ")\n",
        "\n",
        "summary_tool = QueryEngineTool(\n",
        "    summary_index.as_query_engine(response_mode=\"tree_summarize\"),\n",
        "    metadata=ToolMetadata(\n",
        "        name=\"summary\",\n",
        "        description=\"Useful for summarizing the given content from an entire document.\"\n",
        "    )\n",
        ")\n",
        "\n",
        "\n",
        "# list_tool is only for retrieving similiar documents from summary index and does not use llm. It is not used for querying with llm.\n",
        "\n",
        "list_query_engine = summary_index.as_query_engine(response_mode=\"tree_summarize\",use_async=True)\n",
        "\n",
        "list_tool = QueryEngineTool.from_defaults(\n",
        "    query_engine=list_query_engine,\n",
        "    description=(\n",
        "        '''Useful for questions related to  SAP fixed asset accounting, asset master creation, account determination, field status groups, accounting principles,\n",
        "           asset capitalization,reporting, depreciation areas,depreciation keys,amortization, year-end processing,balance carryforwards, acquisitions,scrapping, intercompany transfers and retirement '''\n",
        "    ),\n",
        ")\n"
      ]
    },
    {
      "cell_type": "code",
      "source": [
        "#Using vector_tool for querying from the index\n",
        "\n",
        "vec_query=vector_tool.query_engine.query('As a SAP FICO consultant provide a summary overview for the field depreciation key in asset master in SAP and then give details for each field in depreciation key in bullet points.Please answer based on the provided context only and do not guess').response\n",
        "wrapped_vec_query = textwrap.fill(vec_query, width=150, break_long_words=False,replace_whitespace=False)\n",
        "print(wrapped_vec_query)"
      ],
      "metadata": {
        "colab": {
          "base_uri": "https://localhost:8080/"
        },
        "id": "oO86z244HIUa",
        "outputId": "d27f9f26-69bb-4a3b-f797-4e92f5eca431"
      },
      "execution_count": 4,
      "outputs": [
        {
          "output_type": "stream",
          "name": "stdout",
          "text": [
            " The depreciation key in the asset master of SAP FICO module is a crucial field that determines the depreciation run for a specific asset. It is a\n",
            "customizable feature that can be defined at the chart of depreciation level. The depreciation key consists of several sub-fields that specify the\n",
            "posting values from the depreciation area to the general ledger and manage certain values.\n",
            "\n",
            "Here are the details for each field in the depreciation\n",
            "key:\n",
            "\n",
            "1. Posting Values from Depreciation Area to General Ledger: This feature allows you to automatically post asset balance sheet values\n",
            "(APC/proportional value adjustments) and depreciation from each depreciation area to the corresponding general ledger accounts. You can choose whether\n",
            "values are posted immediately online in Financial Accounting or at periodic intervals. Additionally, you can specify that only depreciation (no APC\n",
            "values) should be posted automatically.\n",
            "2. Managing Certain Values: This feature allows you to specify if the depreciation area should manage\n",
            "acquisition and production costs (APC). You can also specify whether the net book value of assets in the area is allowed to be positive and/or\n",
            "negative. The system rejects any posting that leads to a net book value that contradicts the rule entered.\n",
            "3. Allow Negative Net Book Value: This\n",
            "feature allows negative net book values in certain cases, such as when depreciation is below zero, when the area is intended for value adjustments\n",
            "shown on the liabilities side, or when the area is derived depreciation areas and can have negative values due to their calculation formula.\n",
            "4.\n",
            "Derived Depreciation Areas: This feature allows you to enter a formula that defines the derived depreciation area. Although negative net book values\n",
            "are not allowed in derived depreciation areas, negative values may occur due to the calculation formula. In this case, the depreciation is reduced in\n",
            "the real areas until the net book value in the derived area is at least zero.\n",
            "\n",
            "In summary, the depreciation key is a customizable feature that\n",
            "determines the depreciation run for a specific asset. It consists of several sub-fields that specify the posting values from the depreciation area to\n",
            "the general ledger and manage certain values. The key allows for negative net book values in certain cases and features a formula that defines the\n",
            "derived depreciation area.\n"
          ]
        }
      ]
    },
    {
      "cell_type": "markdown",
      "source": [
        "\n",
        "#RouterQueryEngine:\n",
        "## As shown below we can use the vector tools and format the answers in summarized and detailed form:\n",
        "\n",
        "## We use RouterQueryEngine with the vector tools. RouterQueryEngine wraps both vector & summary tool. And using the bool statement of True or False we instruct whether the query need to be from vector tool or both vector tool and summary tool."
      ],
      "metadata": {
        "id": "EFaokxMcjwJw"
      }
    },
    {
      "cell_type": "code",
      "source": [
        "#Single_selector\n",
        "\n",
        "from llama_index.core.query_engine import RouterQueryEngine\n",
        "\n",
        "single_query = RouterQueryEngine.from_defaults([vector_tool, summary_tool],select_multi=False)\n",
        "multi_query  = RouterQueryEngine.from_defaults([vector_tool, summary_tool],select_multi=True)\n",
        "\n",
        "\n",
        "single_response = single_query.query(\"what is depreciation key in SAP  from the given context\")\n",
        "multi_response  = multi_query.query('''Can you explain different types of depreciation in SAP and the relevance of\n",
        "                                       each field in depreciation key.Provide answers from the given context only and do not guess''')\n",
        "\n",
        "print('Single_response: ')\n",
        "display_response(single_response)\n",
        "\n",
        "print('muliple_response')\n",
        "display_response(multi_response)\n",
        "#print(f'Summary:\\n------------------> \\n\\n {sigle_response} \\n\\n Detailed overview:\\n----------------->\\n\\n {multi_response}')"
      ],
      "metadata": {
        "id": "MN_tRKL2kYzp",
        "colab": {
          "base_uri": "https://localhost:8080/",
          "height": 430
        },
        "outputId": "5e6c7091-3134-48e5-f3c7-f820e20c245d"
      },
      "execution_count": 5,
      "outputs": [
        {
          "output_type": "stream",
          "name": "stdout",
          "text": [
            "Single_response: \n"
          ]
        },
        {
          "output_type": "display_data",
          "data": {
            "text/plain": [
              "<IPython.core.display.Markdown object>"
            ],
            "text/markdown": "**`Final Response:`** A depreciation key in SAP is a combination of calculation rules used for determining depreciation amounts. It represents a set of values necessary for determining depreciation, including ordinary depreciation, special depreciation, imputed interest, and scrap value key. These keys are defined at the chart of depreciation level and are available in all company codes. They allow for the uniform setup of the chart of depreciation with special rules for valuation in a specific economic area. Calculation methods are assigned to each depreciation key for the actual determination of depreciation amounts. Control indicators, such as no ordinary depreciation with special depreciation, no interest if no depreciation is planned, period control according to fiscal years, depreciation to the day, no reduction in short year, and assigned calculation methods, are also features of depreciation keys."
          },
          "metadata": {}
        },
        {
          "output_type": "stream",
          "name": "stdout",
          "text": [
            "muliple_response\n"
          ]
        },
        {
          "output_type": "display_data",
          "data": {
            "text/plain": [
              "<IPython.core.display.Markdown object>"
            ],
            "text/markdown": "**`Final Response:`** In SAP, there are three main types of depreciation: ordinary depreciation, special depreciation, and unplanned depreciation.\n\nOrdinary depreciation is the normal depreciation that occurs in the routine course of business. All depreciation areas are considered as normal depreciation types.\n\nSpecial depreciation is required for special purposes or parallel valuations, such as tax depreciation or cost depreciation.\n\nUnplanned depreciation is the depreciation provision for unexpected events or losses.\n\nDepreciation areas are the different areas where depreciation can be calculated and applied. Some of the depreciation areas are book depreciation area, special tax depreciation area, net worth tax depreciation, cost depreciation, group depreciation, and investment depreciation.\n\nIn SAP, depreciation keys control the automatic calculation of depreciation. These depreciation keys can be modified to define your own methods for calculating asset values. Depreciation keys consist of several fields that are relevant for the calculation of depreciation. However, the context information does not provide specific details about each field in the depreciation key.\n\nInterest calculation for imputed interest in cost accounting is treated as a depreciation type by the system and is controlled by depreciation keys and calculation methods.\n\nThe handling of manual depreciation (unplanned depreciation) is explained in detail in Manual Planning of Depreciation."
          },
          "metadata": {}
        }
      ]
    },
    {
      "cell_type": "markdown",
      "metadata": {
        "id": "gZxCxBj0qhUf"
      },
      "source": [
        "##Use case for list_tool:  List tool is mainly used to retrieve similiar documents. It uses response_mode='tree_summarize' to collect similiar documents hierarchically. It has no query method. We can use retrieve method to get similiar documents and they can be used in other downstream applications."
      ]
    },
    {
      "cell_type": "code",
      "execution_count": 6,
      "metadata": {
        "id": "0L5SejqCW56q",
        "colab": {
          "base_uri": "https://localhost:8080/",
          "height": 140
        },
        "outputId": "ecc5a700-cb89-49a3-abb3-f8f2202ad6fe"
      },
      "outputs": [
        {
          "output_type": "execute_result",
          "data": {
            "text/plain": [
              "'SAP AG  Asset Accou nting (FI- AA)   Asset Accou nting (FI- AA) Asset Accounting Overview  Purpose  The Asset Accou nting (FI-AA) comp onent is use d for managi ng an d sup ervising fixed asset s with the SAP R/3 System. In SAP R/3 Financial Accounting,  it serves as a subsidiary ledger to the FI Gene ral Le dger, providi ng detailed info rmation on tra nsaction s involving fixed assets. Implementation Considerations  The R/3 Asset Accou nting comp onent is intended for i nternatio nal u se in many countrie s, irrespective o f the nature o f the industry.  This  mea ns, for example, that no co untry-spe cific valuation rul es are h ard-co ded in the sy stem. Y ou give this co mponent its co untry-spe cific an d comp any-sp ecific characte r with the settings you ma ke in Cu stomizing. To minim ize the time a nd energy involved in Cu stomi zing, country -specific d efaults are p rovided in the stan dard system where possible. The Impleme ntation Guid e (IMG) provid es the ne cessary fun ctions for this in A sset Accounti ng. Integration  As a re sult of the integratio n in the R/3 System, Asset Acco unting (FI-AA) trans fers data directly to and from o ther R/3 compone nts. For exam ple, it is possibl e to post from the Material s Manag ement (MM) component dire ctly to FI-AA. Wh en an asset is purcha sed or produced in -house, you can dire ctly po st the invoice receipt or goods receipt, or the withdrawal from the wareho use, to assets in th e Asset Accounting compo nent. At the same time, you can p ass on depreci ation and interest d irectly to the Finan cial Accounting  (FI) and Controlling  (CO) comp onents. From the Plant Maintenan ce (PM ) compone nt, you can settle mai ntenan ce activities that requi re capita lization to a ssets.  Cost Center Cost CenterProfit Center Profit CenterCons olid. Cons olid.Purchasing PurchasingGds r ecpt/Warehse Gds r ecpt/WarehseProduction Production(order) (order)Investment Investmentmeasure measureGene ral Ledger Gene ral LedgerAssetAssetEquipment EquipmentAAAACOCOAPCDepreciationActual costsBalance sheetP&LLocal val.Corporate val.Balance sheetP&LPlan costsActual costsCOCOLCLCFIFIIMIMMMMMPPPPPMPM Integra tion o f Ass et Acco unting  April 2001   13'"
            ],
            "application/vnd.google.colaboratory.intrinsic+json": {
              "type": "string"
            }
          },
          "metadata": {},
          "execution_count": 6
        }
      ],
      "source": [
        "list_query_engine = summary_index.as_query_engine(response_mode=\"tree_summarize\",use_async=True)\n",
        "\n",
        "list_tool = QueryEngineTool.from_defaults(\n",
        "    query_engine=list_query_engine,\n",
        "    description=(\n",
        "        '''Useful for questions related to  SAP fixed asset accounting, asset master creation, account determination, field status groups, accounting principles,\n",
        "           asset capitalization,reporting, depreciation areas,depreciation keys,amortization, year-end processing,balance carryforwards, acquisitions,scrapping, intercompany transfers and retirement '''\n",
        "    ),\n",
        ")\n",
        "list_query_engine.retrieve(\"what is account determination\")[12].text.replace('\\n',\"\")"
      ]
    },
    {
      "cell_type": "code",
      "execution_count": null,
      "metadata": {
        "id": "d7iqlyxpBaXu"
      },
      "outputs": [],
      "source": [
        "get_list =list_tool.query_engine.retrieve(\"what is period control \")\n",
        "get_list=[get_list[i].text for i in range(0,len(get_list))]\n",
        "#get_list=\" \".join(asst_list).replace('\\n',\"\")\n",
        "get_list"
      ]
    },
    {
      "cell_type": "markdown",
      "source": [
        "#React Agent: this is another module which uses vector_tool and summary_tool. This module uses chain of thought in response"
      ],
      "metadata": {
        "id": "CJoiHzxlJZhC"
      }
    },
    {
      "cell_type": "code",
      "source": [
        "from llama_index.core.agent import ReActAgent\n",
        "\n",
        "agent = ReActAgent.from_tools(\n",
        "    [vector_tool, summary_tool],\n",
        "    llm=Settings.llm,\n",
        "    verbose=True\n",
        ")\n",
        "\n",
        "response = agent.chat('''as a SAP consultant can you please explain what are the different types of\n",
        "                        vendor invoice clearing in SAP from the given context''')\n",
        "\n",
        "display_response(response)"
      ],
      "metadata": {
        "colab": {
          "base_uri": "https://localhost:8080/",
          "height": 500
        },
        "id": "FXmrkO3nJY42",
        "outputId": "914f8562-0f1e-4dc5-d4c2-90b4f475e8d7"
      },
      "execution_count": 7,
      "outputs": [
        {
          "output_type": "stream",
          "name": "stdout",
          "text": [
            "\u001b[1;3;38;5;200mThought: The current language of the user is: English. The user is asking about the different types of vendor invoice clearing in SAP. I need to use the vector_search tool to help me answer the question.\n",
            "Action: vector_search\n",
            "Action Input: {'input': 'different types of vendor invoice clearing in SAP'}\n",
            "\u001b[0m\u001b[1;3;34mObservation:  In the provided context, there are a few different types of vendor invoice clearing in SAP that have been mentioned. \n",
            "\n",
            "1. Standard Clearing: This function is used when processing open items in accounts payable. It can be used to clear the total down payment to the invoice in F-44 transaction code.\n",
            "\n",
            "2. Partially Clearing: This function is used when the down payment is more than the invoice amount. The residual amount can be cleared using this function in F-53 transaction code.\n",
            "\n",
            "3. Residual Clearing: This function is used when the down payment is less than the invoice amount. The residual amount can be cleared using this function in F-53 transaction code.\n",
            "\n",
            "4. Simulation: This function is used to check the clearing of vendor invoices before posting in F-44 transaction code.\n",
            "\n",
            "5. Alternative Reconciliation Account: This account is used for reverse bill of exchanges in check/bill of exchange transactions.\n",
            "\n",
            "6. Automatic Clearing Account: This account is used as a clearing account for special general ledger transactions with the spl gl indicator as S.\n",
            "\n",
            "7. Special General Ledger Transactions: These transactions are used for check/bill of exchange processes where the company takes a check from the vendor in lieu of accepting the bill of exchange payables.\n",
            "\n",
            "8. Fast Entry Screen (FB10): This functionality is used to post multiple invoice transactions or credit memos in a single screen.\n",
            "\u001b[0m\u001b[1;3;38;5;200mThought: I can answer without using any more tools. I'll use the user's language to answer.\n",
            "Answer: The different types of vendor invoice clearing in SAP are Standard Clearing, Partially Clearing, Residual Clearing, Simulation, Alternative Reconciliation Account, Automatic Clearing Account, Special General Ledger Transactions, and Fast Entry Screen (FB10). Each type serves a specific purpose in the clearing process, such as clearing the total down payment to the invoice, checking the clearing of vendor invoices before posting, and using a clearing account for special general ledger transactions.\n",
            "\u001b[0m"
          ]
        },
        {
          "output_type": "display_data",
          "data": {
            "text/plain": [
              "<IPython.core.display.Markdown object>"
            ],
            "text/markdown": "**`Final Response:`** The different types of vendor invoice clearing in SAP are Standard Clearing, Partially Clearing, Residual Clearing, Simulation, Alternative Reconciliation Account, Automatic Clearing Account, Special General Ledger Transactions, and Fast Entry Screen (FB10). Each type serves a specific purpose in the clearing process, such as clearing the total down payment to the invoice, checking the clearing of vendor invoices before posting, and using a clearing account for special general ledger transactions."
          },
          "metadata": {}
        }
      ]
    },
    {
      "cell_type": "markdown",
      "source": [
        "#Recursive retriever:\n",
        "###This is interesting module and it uses all the below features for querying\n",
        "\n",
        "1.   similiarity\n",
        "2.   llm\n",
        "3.   Response mode\n"
      ],
      "metadata": {
        "id": "IC5jHH2lIrqi"
      }
    },
    {
      "cell_type": "code",
      "execution_count": 9,
      "metadata": {
        "colab": {
          "base_uri": "https://localhost:8080/"
        },
        "id": "RKYFJLM8pSvF",
        "outputId": "fa48a139-350d-4cb0-dc8d-5466e14746d5"
      },
      "outputs": [
        {
          "output_type": "stream",
          "name": "stdout",
          "text": [
            "Response 1:  The depreciation key in the asset master of SAP FICO is a crucial feature that offers additional settings for depreciation calculation. It goes beyond the basic settings already discussed. This key allows for specific configurations that cater to various depreciation rules and regulations of different companies or countries.\n",
            "\n",
            "One such feature is the option to not calculate ordinary depreciation if special tax depreciation is present. This means that ordinary depreciation is set to zero when special tax depreciation is applicable.\n",
            "\n",
            "Another feature is the conditional calculation of imputed interest. The system will only calculate imputed interest if depreciation is also being calculated. This is useful for avoiding unnecessary interest calculations.\n",
            "\n",
            "The depreciation key also allows for period controls to be set according to fiscal years. This means that different period controls can be applied to selected company codes and fiscal years, which can be useful for adhering to specific legal requirements.\n",
            "\n",
            "The system can also perform depreciation calculations to the day, deactivating period control rules in the calculation method for the entire life of the asset. This is particularly useful for meeting legal requirements in countries like France.\n",
            "\n",
            "Additionally, the depreciation key can specify that depreciation is not reduced in shortened fiscal years, even if settings have been made to reduce depreciation at the company code level.\n",
            "\n",
            "The key also allows for the specification that acquisitions are only allowed in the year when depreciation started for the asset, which can be necessary for technical reasons when using sum-of-the-years-digits depreciation.\n",
            "\n",
            "Lastly, the number of places for rounding the percentage rate for depreciation calculation can be specified. This allows for more precise depreciation calculations based on the needs of the company or the regulations of the country.\n",
            "---------------------\n",
            "Response 2:  The depreciation key in an asset master record in SAP FICO module is a crucial field that determines the depreciation rules for a fixed asset. It is a three-character alphanumeric field that can be defined by the user during the creation of the asset master record.\n",
            "\n",
            "In the provided context, the depreciation key is used in the time-dependent data of the asset master record. The key 's200' is given as an example, which likely has specific depreciation rules associated with it. These rules may include the useful life of the asset, the valid date of depreciation, and the depreciation area key.\n",
            "\n",
            "The depreciation area key is another important field that works in conjunction with the depreciation key. In the example given, the depreciation area key '01' is selected to post to the general ledger account by SAP. This means that the depreciation amount calculated for this asset will be posted to the specified general ledger account.\n",
            "\n",
            "It is important to note that the depreciation key and depreciation area key must be consistent with the company code and asset class. In the provided context, the company code is '2006' and the asset class is '282000'. These values must be taken into account when defining the depreciation key and depreciation area key.\n",
            "\n",
            "In summary, the depreciation key in an asset master record in SAP FICO module is a field that determines the depreciation rules for a fixed asset. It works in conjunction with the depreciation area key and must be consistent with the company code and asset class. The key 's200' is given as an example in the provided context, which likely has specific depreciation rules associated with it.\n",
            "---------------------\n",
            "Response 3:  The depreciation key in the asset master of SAP's Asset Accounting (FI-AA) module is a crucial field that determines the method of depreciation for an asset. In the provided context, two types of depreciation keys are discussed:\n",
            "---------------------\n",
            "Response 4:  The depreciation key in the asset master of SAP's Asset Accounting (FI-AA) module is a crucial feature that allows users to specify various parameters related to the depreciation of assets. According to the provided context, this key can be customized at the chart of depreciation level, offering flexibility in managing different depreciation scenarios.\n",
            "\n",
            "The depreciation key determines the following features:\n",
            "\n",
            "1. Posting values from depreciation area to general ledger: Users can automatically post asset balance sheet values (APC/proportional value adjustments) and depreciation from each depreciation area to the corresponding general ledger accounts. The system provides the option to post values immediately online in Financial Accounting or at periodic intervals. Additionally, users can choose to post only depreciation (no APC values) automatically, which might be useful for depreciation areas intended for cost accounting depreciation.\n",
            "\n",
            "2. Managing certain values: In the definition of a depreciation area, users can specify if the area should manage acquisition and production costs (APC). Areas that do not manage APC are, for example, depreciation areas only for value adjustments shown on the liabilities side, such as investment support. Users also specify in each depreciation area whether the net book value of assets in the area is allowed to be positive and/or negative. The system rejects any posting that leads to a net book value contradicting the entered rule.\n",
            "\n",
            "3. Derived depreciation areas: Users can enter a formula that defines the derived depreciation area. Although negative net book values are not allowed in a derived depreciation area, negative values may occur due to the calculation formula. In this case, the depreciation is reduced in the real areas (on which the derived area is based) until the net book value in the derived area is at least zero. It is recommended that users allow for both positive and negative net book values in derived depreciation areas.\n",
            "\n",
            "In summary, the depreciation key in the asset master of SAP's Asset Accounting (FI-AA) module is a powerful feature that enables users to customize depreciation rules according to their specific requirements, including managing values, posting to general ledger, and defining derived depreciation areas.\n",
            "---------------------\n",
            "Response 5:  The depreciation key in the asset master of SAP is a crucial field that determines the depreciation method and rules for an asset. It is reflective of certain general requirements for depreciation as stipulated in the German commercial code and tax law. \n",
            "\n",
            "The depreciation key sets the depreciation end point, which is when the net book value reaches zero, the globally specified memo value for the depreciation area and company code, or the scrap value specified in the asset. For German net worth tax purposes, SAP provides special cutoff keys, which were required until 1993. \n",
            "\n",
            "If you need to account for blanket percentage scrap values, you can create special scrap value keys and enter these in the depreciation key as the cutoff value key. \n",
            "\n",
            "The depreciation key also sets the asset value date. For acquisitions during the year of capitalization, the system automatically sets the asset value date to the first day of the capitalization year according to the period control that has been entered. The user can also set the asset value date manually. For acquisitions in subsequent fiscal years, the system always sets the asset value date to the first day of the fiscal year, so that a full year’s depreciation is calculated in the year in which the acquisition was posted. \n",
            "\n",
            "Transfers and retirements are calculated using pro rata temporis. Transactions during the first half of a period start depreciation on the first day of the period, and transactions in the second half of the period start depreciation at the end of the period. \n",
            "\n",
            "It's important to note that shutdowns are not recognized by the standard keys. \n",
            "\n",
            "The context provided uses the example of the LINR straight-line depreciation key, which calculates depreciation as net book value divided by the remaining life. In the year of acquisition, the first year convention of a half year is used, whereby the depreciation start date for acquisitions in the first half of the fiscal year is set to the first day of the fiscal year, and for acquisitions during the second half of the fiscal year, the depreciation start date is set to the middle of the fiscal year.\n"
          ]
        }
      ],
      "source": [
        "recur_retriever      = RecursiveRetriever(\"vector\",\n",
        "                                         retriever_dict={\"vector\": sap_index.as_retriever(similarity_top_k=5)},\n",
        "                                         verbose=False)\n",
        "\n",
        "response_synthesizer = get_response_synthesizer(llm=TogetherLLM(model=\"mistralai/Mixtral-8x7B-Instruct-v0.1\", api_key=together.api_key),\n",
        "                                             verbose=False,\n",
        "                                       response_mode=\"accumulate\") # only 'refine',tree_summarize and 'accumulate' are working\n",
        "\n",
        "\n",
        "# Use above two components to configure query engine\n",
        "lam_query_engine     = RetrieverQueryEngine.from_args(retriever = recur_retriever,\n",
        "                                                      llm       = TogetherLLM(model=\"mistralai/Mixtral-8x7B-Instruct-v0.1\", api_key=together.api_key),\n",
        "                                         response_synthesizer   = response_synthesizer)\n",
        "\n",
        "print(lam_query_engine.query('''As a SAP FICO consultant please provide a detailed summary of the field depreciation key in asset master in SAP.\n",
        "                                Please answer based on the provided context only and do not guess''').response)"
      ]
    },
    {
      "cell_type": "markdown",
      "metadata": {
        "id": "G1tMqWwTp8UR"
      },
      "source": [
        "#Multistep Query Engine"
      ]
    },
    {
      "cell_type": "code",
      "execution_count": 11,
      "metadata": {
        "colab": {
          "base_uri": "https://localhost:8080/"
        },
        "id": "ZmVwZ-HYp7L6",
        "outputId": "e9bc3642-a488-4698-cf50-d81a1d769d09"
      },
      "outputs": [
        {
          "output_type": "stream",
          "name": "stdout",
          "text": [
            " The depreciation key in the asset master of SAP Asset Accounting (FI-AA) is a configuration setting that enables detailed customization of\n",
            "depreciation calculation. It includes features such as:\n",
            "\n",
            "- Option to exclude ordinary depreciation if special tax depreciation is present\n",
            "- Period\n",
            "controls that can differ from company code and fiscal year specifications\n",
            "- Depreciation calculation to the day\n",
            "- Special handling of leap years\n",
            "-\n",
            "Depreciation calculation in shortened fiscal years\n",
            "- Acquisition restrictions to the capitalization year\n",
            "- Rounding of the percentage rate for\n",
            "depreciation calculation to a specified number of places\n",
            "\n",
            "These settings provide adaptability in the calculation of depreciation for various business\n",
            "needs.\n",
            "\n",
            "Regarding the fields in the depreciation key:\n",
            "\n",
            "- Depreciation Key: A unique identifier for the depreciation key\n",
            "- Useful Life: Specifies the\n",
            "useful life of the asset in years or months\n",
            "- Depreciation Start Date: The date from which depreciation is calculated\n",
            "- Depreciation Method: The\n",
            "method of depreciation, such as straight-line, declining balance, or sum-of-the-years' digits\n",
            "- Calculation Period: The period for calculating\n",
            "depreciation, such as monthly, quarterly, or annually\n",
            "- Percentage Rate: The percentage rate for calculating depreciation, if the method is based on a\n",
            "percentage rate\n",
            "- Fixed Values: Fixed values for calculating depreciation, if the method is based on fixed values\n",
            "- Depreciation Area: The\n",
            "depreciation area to which the asset belongs\n",
            "- Valuation Class: The valuation class for the asset, which determines the accounting treatment\n",
            "-\n",
            "Controlling Area: The controlling area to which the asset belongs\n",
            "- Company Code: The company code to which the asset belongs\n",
            "- Chart of Accounts: The\n",
            "chart of accounts to which the asset belongs\n",
            "\n",
            "These fields allow for customization in setting up depreciation parameters for an asset, tailored to the\n",
            "specific needs of an organization. The 'Useful Life' field determines the total length of time over which the asset will be depreciated, affecting the\n",
            "annual depreciation expense and the asset's book value over its useful life.\n"
          ]
        }
      ],
      "source": [
        "######   Multistep query engine  #######################\n",
        "\n",
        "\n",
        "from llama_index.core.indices.query.query_transform.base import (StepDecomposeQueryTransform)\n",
        "\n",
        "# Step decompose transform\n",
        "step_decompose_transform = StepDecomposeQueryTransform(llm=TogetherLLM(model=\"mistralai/Mixtral-8x7B-Instruct-v0.1\", api_key=together.api_key), verbose=False)\n",
        "\n",
        "\n",
        "index_summary = \"Use to answer questions about gl accounts, customer, vendors, assets, payments, bank accounts,general ledger integration  and invoice clearings and its configurations in SAP\"\n",
        "\n",
        "\n",
        "# set Logging to DEBUG for more detailed outputs\n",
        "from llama_index.core.query_engine.multistep_query_engine import (MultiStepQueryEngine)\n",
        "\n",
        "q_engine        = MultiStepQueryEngine(query_engine    =sap_index.as_query_engine(),\n",
        "                                       query_transform =step_decompose_transform,\n",
        "                                       index_summary    =index_summary)\n",
        "\n",
        "\n",
        "response_llama = q_engine.query(\"As a SAP FICO consultant provide a summary overview for the field depreciation key in asset master in SAP and then give details for each field in depreciation key in bullet points.Please answer based on the provided context only and do not guess\").response\n",
        "wrapped_response = textwrap.fill(response_llama, width=150, break_long_words=False,replace_whitespace=False)\n",
        "print(wrapped_response)"
      ]
    },
    {
      "cell_type": "markdown",
      "metadata": {
        "id": "ZHQrmOe43czA"
      },
      "source": [
        "#Combine two different methods\n",
        "\n",
        "\n",
        "1.   Recursive Retriever with response mode ='accumulate'\n",
        "2.   Multistep Query Engine\n",
        "\n"
      ]
    },
    {
      "cell_type": "code",
      "execution_count": 14,
      "metadata": {
        "id": "1XHlfvgV3hGH"
      },
      "outputs": [],
      "source": [
        "######################################### Recursive retriever ############################\n",
        "\n",
        "recur_retriever      = RecursiveRetriever(\"vector\",\n",
        "                                         retriever_dict={\"vector\": sap_index.as_retriever(similarity_top_k=5)},\n",
        "                                         verbose=False)\n",
        "\n",
        "response_synthesizer = get_response_synthesizer(llm=TogetherLLM(model=\"mistralai/Mixtral-8x7B-Instruct-v0.1\", api_key=together.api_key),\n",
        "                                             verbose=False,\n",
        "                                       response_mode=\"tree_summarize\") # only 'refine' and 'accumulate' are working\n",
        "\n",
        "\n",
        "# Use above two components to configure query engine\n",
        "lam_query_engine     = RetrieverQueryEngine.from_args(retriever = recur_retriever,\n",
        "                                                      llm       = TogetherLLM(model=\"mistralai/Mixtral-8x7B-Instruct-v0.1\", api_key=together.api_key),\n",
        "                                         response_synthesizer   = response_synthesizer)\n",
        "\n",
        "\n",
        "acc_str = lam_query_engine.query('as a SAP consultant can you please provide a high level summary of integration of material management with financial accounting. Provide answers only from the given context and do not guess')\n",
        "\n",
        "######################################## Multistep Query Engine ############################\n",
        "\n",
        "from llama_index.core.indices.query.query_transform.base import (StepDecomposeQueryTransform)\n",
        "\n",
        "# Step decompose transform\n",
        "step_decompose_transform = StepDecomposeQueryTransform(llm=TogetherLLM(model=\"mistralai/Mixtral-8x7B-Instruct-v0.1\", api_key=together.api_key), verbose=True)\n",
        "\n",
        "\n",
        "index_summary = acc_str.response #   Index_summary is derived from recursive retriever method above\n",
        "\n",
        "# set Logging to DEBUG for more detailed outputs\n",
        "from llama_index.core.query_engine.multistep_query_engine import (MultiStepQueryEngine)\n",
        "\n",
        "q_engine        = MultiStepQueryEngine(query_engine     = sap_index.as_query_engine(),\n",
        "                                       query_transform  = step_decompose_transform,\n",
        "                                       index_summary    = index_summary)\n"
      ]
    },
    {
      "cell_type": "code",
      "execution_count": null,
      "metadata": {
        "colab": {
          "base_uri": "https://localhost:8080/"
        },
        "id": "9DEiyZrh5G18",
        "outputId": "bfaafb56-796e-4874-8481-be33c153d5a0"
      },
      "outputs": [
        {
          "name": "stdout",
          "output_type": "stream",
          "text": [
            "\u001b[1;3;33m> Current query: Can you provide step by step details how goods movement in material management are integrated with financial accounting using transaction keys, movement types etc. Provide answer only if it is in the given context\n",
            "\u001b[0m\u001b[1;3;38;5;200m> New query:  How is the integration of general ledger accounts achieved during the creation of a material master record for the integration of financial accounting and material management in SAP?\n",
            "\u001b[0m\u001b[1;3;33m> Current query: Can you provide step by step details how goods movement in material management are integrated with financial accounting using transaction keys, movement types etc. Provide answer only if it is in the given context\n",
            "\u001b[0m\u001b[1;3;38;5;200m> New query:  How are general ledger accounts integrated during the creation of a material master record for the integration of financial accounting and material management in SAP using transaction keys and movement types?\n",
            "\u001b[0m\u001b[1;3;33m> Current query: Can you provide step by step details how goods movement in material management are integrated with financial accounting using transaction keys, movement types etc. Provide answer only if it is in the given context\n",
            "\u001b[0m\u001b[1;3;38;5;200m> New query:  How are transaction keys and movement types used to assign general ledger accounts during the creation of a material master record for the integration of financial accounting and material management in SAP?\n",
            "\u001b[0m"
          ]
        }
      ],
      "source": [
        "response_llama   = q_engine.query(\"Can you provide step by step details how goods movement in material management are integrated with financial accounting using transaction keys, movement types etc. Provide answer only if it is in the given context\").response  #Provide answer based on given context only and do not answer if not in the given context. Do not guess\")\n",
        "wrapped_response = textwrap.fill(response_llama, width=150, break_long_words=False,replace_whitespace=False)\n",
        "wrapped_str = textwrap.fill(acc_str.response, width=150, break_long_words=False,replace_whitespace=False)"
      ]
    },
    {
      "cell_type": "code",
      "execution_count": null,
      "metadata": {
        "colab": {
          "base_uri": "https://localhost:8080/"
        },
        "id": "AfWVtV8hC4Mc",
        "outputId": "4c149ec6-de1c-4056-ef5e-435b217d76b0"
      },
      "outputs": [
        {
          "name": "stdout",
          "output_type": "stream",
          "text": [
            "<----------->\n",
            "Summary: \n",
            "\n",
            " Integration of material management with financial accounting in SAP is a complex activity during the implementation project. The finance module is\n",
            "linked up with most of the other modules, including material management. This integration is done automatically for intra-module activities, but\n",
            "inter-module integration is a challenging task for the implementation team. The FICO module consultant plays a significant role in this process.\n",
            "Specifically, for the integration of the FICO module with material management, general ledger accounts are required to integrate FI and MM\n",
            "transactions with the necessary parameters. Changes to the automatic determination of accounts can be made in OBYC. The creation of a material master\n",
            "record involves several steps, including giving industry sector, material type, plant, and storage location, and selecting views such as basic data 1,\n",
            "purchasing, and accounting 1. Valuation class and price control are important aspects of accounting data.\n",
            "\n",
            " <---------->  \n",
            " Detailed analysis:\n",
            "\n",
            " Sure, I'd be happy to help! Based on the context information provided, it appears that you are asking about the integration of goods movement in\n",
            "material management with financial accounting using transaction keys and movement types in SAP.\n",
            "\n",
            "To answer your question, here are the step-by-step\n",
            "details on how goods movement in material management are integrated with financial accounting using transaction keys and movement types in SAP:\n",
            "\n",
            "Step\n",
            "1: Define the transaction keys and movement types\n",
            "\n",
            "In SAP, transaction keys and movement types are used to classify the different types of\n",
            "transactions that occur in the material management and financial accounting modules. To integrate goods movement with financial accounting, we need to\n",
            "define the transaction keys and movement types that will be used to record the financial impact of the goods movement.\n",
            "\n",
            "For example, we can define the\n",
            "following transaction keys and movement types:\n",
            "\n",
            "* BSX: Inventory postings (material procurement)\n",
            "        + Movement type: Material procurement\n",
            "* AUM:\n",
            "Stock transfer expenses/revenue ac (material transfer)\n",
            "        + Movement type: Material transfer\n",
            "* PRD: Cost price differences (material consumption)\n",
            "+ Movement type: Material consumption\n",
            "\n",
            "Step 2: Create the material master record\n",
            "\n",
            "Before we can integrate goods movement with financial accounting, we\n",
            "need to create a material master record for the material we want to manage. This record contains information about the material, such as its name,\n",
            "description, and properties.\n",
            "\n",
            "Once the material master record is created, we can assign the appropriate transaction keys and movement types to the\n",
            "material. This will ensure that the financial impact of the goods movement is properly recorded in the financial accounting module.\n",
            "\n",
            "Step 3: Post the\n",
            "goods movement\n",
            "\n",
            "Once the material master record is created and the transaction keys and movement types are assigned, we can post the goods movement\n",
            "transactions in the material management module. This will update the inventory balances and trigger the financial accounting transactions.\n",
            "\n",
            "For\n",
            "example, if we want to post a purchase transaction for the material \"MAT-001\", we can create a goods movement transaction with the following details:\n",
            "* Material: MAT-001\n",
            "* Quantity: 100\n",
            "* Unit: Kilograms\n",
            "* Value: 1000.00\n",
            "* Transaction key: BSX\n",
            "* Movement type: Material procurement\n",
            "\n",
            "Once this\n",
            "transaction is posted, the financial accounting module will automatically create a purchase transaction with the appropriate general ledger accounts.\n",
            "Step 4: Monitor the financial accounting transactions\n",
            "\n",
            "After the goods movement transactions are posted, we can monitor the financial accounting\n",
            "transactions to ensure that the financial impact of the goods movement is properly recorded. We can use the transaction keys and movement types to\n",
            "track the financial transactions and ensure that they are properly classified.\n",
            "\n",
            "For example, we can use the transaction key \"BSX\" to track all the\n",
            "purchase transactions related to the material \"MAT-001\". We can also use the movement type \"Material procurement\" to track all the transactions that\n",
            "are related to the procurement of this material.\n",
            "\n",
            "I hope this information is helpful! If you have any further questions or would like more\n",
            "information, please don't hesitate to ask.\n"
          ]
        }
      ],
      "source": [
        "print(f\"<----------->\\nSummary: \\n\\n{wrapped_str}\\n\\n <---------->  \\n Detailed analysis:\\n\\n {wrapped_response}\")"
      ]
    }
  ],
  "metadata": {
    "colab": {
      "provenance": [],
      "mount_file_id": "1nqSucP8IIMpr2d45LRH3glgn-RmMcXpK",
      "authorship_tag": "ABX9TyNuQihI2xbvYKbwoEnSGSiP",
      "include_colab_link": true
    },
    "kernelspec": {
      "display_name": "Python 3",
      "name": "python3"
    },
    "language_info": {
      "name": "python"
    }
  },
  "nbformat": 4,
  "nbformat_minor": 0
}